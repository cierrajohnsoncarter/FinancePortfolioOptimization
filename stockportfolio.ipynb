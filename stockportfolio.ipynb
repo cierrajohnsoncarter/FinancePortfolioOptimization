{
  "nbformat": 4,
  "nbformat_minor": 0,
  "metadata": {
    "colab": {
      "name": "stockportfolio.ipynb",
      "provenance": [],
      "collapsed_sections": [],
      "authorship_tag": "ABX9TyOwzqvd9PBpTeAzLJXpgh37"
    },
    "kernelspec": {
      "name": "python3",
      "display_name": "Python 3"
    }
  },
  "cells": [
    {
      "cell_type": "markdown",
      "metadata": {
        "id": "dlKIPkg5Ui7g",
        "colab_type": "text"
      },
      "source": [
        "Import the libraries\n"
      ]
    },
    {
      "cell_type": "code",
      "metadata": {
        "id": "pQkw2Gx8UpG3",
        "colab_type": "code",
        "colab": {}
      },
      "source": [
        "from pandas_datareader import data as web\n",
        "import pandas as pd\n",
        "import numpy as np\n",
        "from datetime import datetime\n",
        "import matplotlib.pyplot as plt\n",
        "plt.style.use('fivethirtyeight')"
      ],
      "execution_count": 0,
      "outputs": []
    },
    {
      "cell_type": "markdown",
      "metadata": {
        "id": "5SfkTJz_VGg7",
        "colab_type": "text"
      },
      "source": [
        "Get the stock symbols/tickers in the portfolio"
      ]
    },
    {
      "cell_type": "code",
      "metadata": {
        "id": "fs-wpE2OVK8y",
        "colab_type": "code",
        "colab": {}
      },
      "source": [
        "# FAANG\n",
        "assets = ['FB', 'AMZN', 'AAPL', 'NFLX', 'GOOG']"
      ],
      "execution_count": 0,
      "outputs": []
    },
    {
      "cell_type": "markdown",
      "metadata": {
        "id": "ag9C3VFYVa9o",
        "colab_type": "text"
      },
      "source": [
        "Assign weights to the stocks (must equal 1 or 100%)"
      ]
    },
    {
      "cell_type": "code",
      "metadata": {
        "id": "eEAXopncVgMj",
        "colab_type": "code",
        "colab": {}
      },
      "source": [
        "weights = np.array([0.2, 0.2, 0.2, 0.2, 0.2])"
      ],
      "execution_count": 0,
      "outputs": []
    },
    {
      "cell_type": "markdown",
      "metadata": {
        "id": "q3l2mM0hVrKQ",
        "colab_type": "text"
      },
      "source": [
        "Get the stock/portflio starting date"
      ]
    },
    {
      "cell_type": "code",
      "metadata": {
        "id": "1Q7AnE3iVybI",
        "colab_type": "code",
        "colab": {}
      },
      "source": [
        "stockStartDate = '2013-01-01'"
      ],
      "execution_count": 0,
      "outputs": []
    },
    {
      "cell_type": "markdown",
      "metadata": {
        "id": "VCRYHKgwWGnj",
        "colab_type": "text"
      },
      "source": [
        "Get the stock/portfolio ending date (today)"
      ]
    },
    {
      "cell_type": "code",
      "metadata": {
        "id": "-WX6kw8zWKDg",
        "colab_type": "code",
        "colab": {
          "base_uri": "https://localhost:8080/",
          "height": 35
        },
        "outputId": "9fa416a5-2edb-4d9c-baef-5af1c14b2180"
      },
      "source": [
        "today = datetime.today().strftime('%Y-%m-%d')\n",
        "today"
      ],
      "execution_count": 8,
      "outputs": [
        {
          "output_type": "execute_result",
          "data": {
            "text/plain": [
              "'2020-04-25'"
            ]
          },
          "metadata": {
            "tags": []
          },
          "execution_count": 8
        }
      ]
    },
    {
      "cell_type": "markdown",
      "metadata": {
        "id": "bk0UjRHiWZ4q",
        "colab_type": "text"
      },
      "source": [
        "Create a dataframe to store the adjusted close price of the stocks"
      ]
    },
    {
      "cell_type": "code",
      "metadata": {
        "id": "EYJx5xloWdqR",
        "colab_type": "code",
        "colab": {}
      },
      "source": [
        "df = pd.DataFrame()\n",
        "\n",
        "# Store the adjusted close price of the stock into the dataframe\n",
        "for stock in assets:\n",
        "  df[stock] = web.DataReader(stock, data_source='yahoo', start=stockStartDate, end=today)['Adj Close']"
      ],
      "execution_count": 0,
      "outputs": []
    },
    {
      "cell_type": "markdown",
      "metadata": {
        "id": "EVrprnPiXGa-",
        "colab_type": "text"
      },
      "source": [
        "Show the dataframe"
      ]
    },
    {
      "cell_type": "code",
      "metadata": {
        "id": "QGrWLZWJXJMw",
        "colab_type": "code",
        "colab": {
          "base_uri": "https://localhost:8080/",
          "height": 450
        },
        "outputId": "40f696e6-d745-4be5-a470-ad3ef89e9629"
      },
      "source": [
        "df"
      ],
      "execution_count": 11,
      "outputs": [
        {
          "output_type": "execute_result",
          "data": {
            "text/html": [
              "<div>\n",
              "<style scoped>\n",
              "    .dataframe tbody tr th:only-of-type {\n",
              "        vertical-align: middle;\n",
              "    }\n",
              "\n",
              "    .dataframe tbody tr th {\n",
              "        vertical-align: top;\n",
              "    }\n",
              "\n",
              "    .dataframe thead th {\n",
              "        text-align: right;\n",
              "    }\n",
              "</style>\n",
              "<table border=\"1\" class=\"dataframe\">\n",
              "  <thead>\n",
              "    <tr style=\"text-align: right;\">\n",
              "      <th></th>\n",
              "      <th>FB</th>\n",
              "      <th>AMZN</th>\n",
              "      <th>AAPL</th>\n",
              "      <th>NFLX</th>\n",
              "      <th>GOOG</th>\n",
              "    </tr>\n",
              "    <tr>\n",
              "      <th>Date</th>\n",
              "      <th></th>\n",
              "      <th></th>\n",
              "      <th></th>\n",
              "      <th></th>\n",
              "      <th></th>\n",
              "    </tr>\n",
              "  </thead>\n",
              "  <tbody>\n",
              "    <tr>\n",
              "      <th>2013-01-02</th>\n",
              "      <td>28.000000</td>\n",
              "      <td>257.309998</td>\n",
              "      <td>68.687538</td>\n",
              "      <td>13.144286</td>\n",
              "      <td>360.274597</td>\n",
              "    </tr>\n",
              "    <tr>\n",
              "      <th>2013-01-03</th>\n",
              "      <td>27.770000</td>\n",
              "      <td>258.480011</td>\n",
              "      <td>67.820526</td>\n",
              "      <td>13.798572</td>\n",
              "      <td>360.483826</td>\n",
              "    </tr>\n",
              "    <tr>\n",
              "      <th>2013-01-04</th>\n",
              "      <td>28.760000</td>\n",
              "      <td>259.149994</td>\n",
              "      <td>65.931404</td>\n",
              "      <td>13.711429</td>\n",
              "      <td>367.607117</td>\n",
              "    </tr>\n",
              "    <tr>\n",
              "      <th>2013-01-07</th>\n",
              "      <td>29.420000</td>\n",
              "      <td>268.459991</td>\n",
              "      <td>65.543602</td>\n",
              "      <td>14.171429</td>\n",
              "      <td>366.003143</td>\n",
              "    </tr>\n",
              "    <tr>\n",
              "      <th>2013-01-08</th>\n",
              "      <td>29.059999</td>\n",
              "      <td>266.380005</td>\n",
              "      <td>65.719994</td>\n",
              "      <td>13.880000</td>\n",
              "      <td>365.280823</td>\n",
              "    </tr>\n",
              "    <tr>\n",
              "      <th>...</th>\n",
              "      <td>...</td>\n",
              "      <td>...</td>\n",
              "      <td>...</td>\n",
              "      <td>...</td>\n",
              "      <td>...</td>\n",
              "    </tr>\n",
              "    <tr>\n",
              "      <th>2020-04-20</th>\n",
              "      <td>178.240005</td>\n",
              "      <td>2393.610107</td>\n",
              "      <td>276.929993</td>\n",
              "      <td>437.489990</td>\n",
              "      <td>1266.609985</td>\n",
              "    </tr>\n",
              "    <tr>\n",
              "      <th>2020-04-21</th>\n",
              "      <td>170.800003</td>\n",
              "      <td>2328.120117</td>\n",
              "      <td>268.369995</td>\n",
              "      <td>433.829987</td>\n",
              "      <td>1216.339966</td>\n",
              "    </tr>\n",
              "    <tr>\n",
              "      <th>2020-04-22</th>\n",
              "      <td>182.279999</td>\n",
              "      <td>2363.489990</td>\n",
              "      <td>276.100006</td>\n",
              "      <td>421.420013</td>\n",
              "      <td>1263.209961</td>\n",
              "    </tr>\n",
              "    <tr>\n",
              "      <th>2020-04-23</th>\n",
              "      <td>185.130005</td>\n",
              "      <td>2399.449951</td>\n",
              "      <td>275.029999</td>\n",
              "      <td>426.700012</td>\n",
              "      <td>1276.310059</td>\n",
              "    </tr>\n",
              "    <tr>\n",
              "      <th>2020-04-24</th>\n",
              "      <td>190.070007</td>\n",
              "      <td>2410.219971</td>\n",
              "      <td>282.970001</td>\n",
              "      <td>424.989990</td>\n",
              "      <td>1279.310059</td>\n",
              "    </tr>\n",
              "  </tbody>\n",
              "</table>\n",
              "<p>1841 rows × 5 columns</p>\n",
              "</div>"
            ],
            "text/plain": [
              "                    FB         AMZN        AAPL        NFLX         GOOG\n",
              "Date                                                                    \n",
              "2013-01-02   28.000000   257.309998   68.687538   13.144286   360.274597\n",
              "2013-01-03   27.770000   258.480011   67.820526   13.798572   360.483826\n",
              "2013-01-04   28.760000   259.149994   65.931404   13.711429   367.607117\n",
              "2013-01-07   29.420000   268.459991   65.543602   14.171429   366.003143\n",
              "2013-01-08   29.059999   266.380005   65.719994   13.880000   365.280823\n",
              "...                ...          ...         ...         ...          ...\n",
              "2020-04-20  178.240005  2393.610107  276.929993  437.489990  1266.609985\n",
              "2020-04-21  170.800003  2328.120117  268.369995  433.829987  1216.339966\n",
              "2020-04-22  182.279999  2363.489990  276.100006  421.420013  1263.209961\n",
              "2020-04-23  185.130005  2399.449951  275.029999  426.700012  1276.310059\n",
              "2020-04-24  190.070007  2410.219971  282.970001  424.989990  1279.310059\n",
              "\n",
              "[1841 rows x 5 columns]"
            ]
          },
          "metadata": {
            "tags": []
          },
          "execution_count": 11
        }
      ]
    },
    {
      "cell_type": "markdown",
      "metadata": {
        "id": "DEvQnZM6XM1X",
        "colab_type": "text"
      },
      "source": [
        "Visualize the stock/portfolio"
      ]
    },
    {
      "cell_type": "code",
      "metadata": {
        "id": "xocIMsebXRWK",
        "colab_type": "code",
        "colab": {
          "base_uri": "https://localhost:8080/",
          "height": 325
        },
        "outputId": "6bbb51d7-efd7-4115-dfcf-34750a7d3fdf"
      },
      "source": [
        "title = 'Portfolio: Adjusted Close Price History'\n",
        "\n",
        "# Get the stocks\n",
        "my_stocks = df\n",
        "\n",
        "# Create and plot the graph\n",
        "for c in my_stocks.columns.values: # for all of the columns in the dataframe\n",
        "  plt.plot(my_stocks[c], label=c) # plot each value\n",
        "\n",
        "plt.title(title) # title of graph\n",
        "plt.xlabel('Date', fontsize=18) # x axis label and font size\n",
        "plt.ylabel('Adjusted Price in USD ($)', fontsize=18) # y axis label and font size\n",
        "plt.legend(my_stocks.columns.values, loc='upper left') # location of stock symbols\n",
        "plt.show()"
      ],
      "execution_count": 17,
      "outputs": [
        {
          "output_type": "display_data",
          "data": {
            "image/png": "[encoded data removed]",
            "text/plain": [
              "<Figure size 432x288 with 1 Axes>"
            ]
          },
          "metadata": {
            "tags": []
          }
        }
      ]
    },
    {
      "cell_type": "markdown",
      "metadata": {
        "id": "z-hPg-bCZQ5L",
        "colab_type": "text"
      },
      "source": [
        "Show the daily simple return"
      ]
    },
    {
      "cell_type": "code",
      "metadata": {
        "id": "ioxYPYOKZS-0",
        "colab_type": "code",
        "colab": {
          "base_uri": "https://localhost:8080/",
          "height": 450
        },
        "outputId": "b559e221-db90-41a9-8c26-acb917555c66"
      },
      "source": [
        "returns = df.pct_change() # returns = new price/old price -1\n",
        "returns"
      ],
      "execution_count": 14,
      "outputs": [
        {
          "output_type": "execute_result",
          "data": {
            "text/html": [
              "<div>\n",
              "<style scoped>\n",
              "    .dataframe tbody tr th:only-of-type {\n",
              "        vertical-align: middle;\n",
              "    }\n",
              "\n",
              "    .dataframe tbody tr th {\n",
              "        vertical-align: top;\n",
              "    }\n",
              "\n",
              "    .dataframe thead th {\n",
              "        text-align: right;\n",
              "    }\n",
              "</style>\n",
              "<table border=\"1\" class=\"dataframe\">\n",
              "  <thead>\n",
              "    <tr style=\"text-align: right;\">\n",
              "      <th></th>\n",
              "      <th>FB</th>\n",
              "      <th>AMZN</th>\n",
              "      <th>AAPL</th>\n",
              "      <th>NFLX</th>\n",
              "      <th>GOOG</th>\n",
              "    </tr>\n",
              "    <tr>\n",
              "      <th>Date</th>\n",
              "      <th></th>\n",
              "      <th></th>\n",
              "      <th></th>\n",
              "      <th></th>\n",
              "      <th></th>\n",
              "    </tr>\n",
              "  </thead>\n",
              "  <tbody>\n",
              "    <tr>\n",
              "      <th>2013-01-02</th>\n",
              "      <td>NaN</td>\n",
              "      <td>NaN</td>\n",
              "      <td>NaN</td>\n",
              "      <td>NaN</td>\n",
              "      <td>NaN</td>\n",
              "    </tr>\n",
              "    <tr>\n",
              "      <th>2013-01-03</th>\n",
              "      <td>-0.008214</td>\n",
              "      <td>0.004547</td>\n",
              "      <td>-0.012623</td>\n",
              "      <td>0.049777</td>\n",
              "      <td>0.000581</td>\n",
              "    </tr>\n",
              "    <tr>\n",
              "      <th>2013-01-04</th>\n",
              "      <td>0.035650</td>\n",
              "      <td>0.002592</td>\n",
              "      <td>-0.027855</td>\n",
              "      <td>-0.006315</td>\n",
              "      <td>0.019760</td>\n",
              "    </tr>\n",
              "    <tr>\n",
              "      <th>2013-01-07</th>\n",
              "      <td>0.022949</td>\n",
              "      <td>0.035925</td>\n",
              "      <td>-0.005882</td>\n",
              "      <td>0.033549</td>\n",
              "      <td>-0.004363</td>\n",
              "    </tr>\n",
              "    <tr>\n",
              "      <th>2013-01-08</th>\n",
              "      <td>-0.012237</td>\n",
              "      <td>-0.007748</td>\n",
              "      <td>0.002691</td>\n",
              "      <td>-0.020565</td>\n",
              "      <td>-0.001974</td>\n",
              "    </tr>\n",
              "    <tr>\n",
              "      <th>...</th>\n",
              "      <td>...</td>\n",
              "      <td>...</td>\n",
              "      <td>...</td>\n",
              "      <td>...</td>\n",
              "      <td>...</td>\n",
              "    </tr>\n",
              "    <tr>\n",
              "      <th>2020-04-20</th>\n",
              "      <td>-0.005579</td>\n",
              "      <td>0.007836</td>\n",
              "      <td>-0.020757</td>\n",
              "      <td>0.034353</td>\n",
              "      <td>-0.012967</td>\n",
              "    </tr>\n",
              "    <tr>\n",
              "      <th>2020-04-21</th>\n",
              "      <td>-0.041741</td>\n",
              "      <td>-0.027360</td>\n",
              "      <td>-0.030910</td>\n",
              "      <td>-0.008366</td>\n",
              "      <td>-0.039689</td>\n",
              "    </tr>\n",
              "    <tr>\n",
              "      <th>2020-04-22</th>\n",
              "      <td>0.067213</td>\n",
              "      <td>0.015192</td>\n",
              "      <td>0.028804</td>\n",
              "      <td>-0.028606</td>\n",
              "      <td>0.038534</td>\n",
              "    </tr>\n",
              "    <tr>\n",
              "      <th>2020-04-23</th>\n",
              "      <td>0.015635</td>\n",
              "      <td>0.015215</td>\n",
              "      <td>-0.003875</td>\n",
              "      <td>0.012529</td>\n",
              "      <td>0.010370</td>\n",
              "    </tr>\n",
              "    <tr>\n",
              "      <th>2020-04-24</th>\n",
              "      <td>0.026684</td>\n",
              "      <td>0.004489</td>\n",
              "      <td>0.028870</td>\n",
              "      <td>-0.004008</td>\n",
              "      <td>0.002351</td>\n",
              "    </tr>\n",
              "  </tbody>\n",
              "</table>\n",
              "<p>1841 rows × 5 columns</p>\n",
              "</div>"
            ],
            "text/plain": [
              "                  FB      AMZN      AAPL      NFLX      GOOG\n",
              "Date                                                        \n",
              "2013-01-02       NaN       NaN       NaN       NaN       NaN\n",
              "2013-01-03 -0.008214  0.004547 -0.012623  0.049777  0.000581\n",
              "2013-01-04  0.035650  0.002592 -0.027855 -0.006315  0.019760\n",
              "2013-01-07  0.022949  0.035925 -0.005882  0.033549 -0.004363\n",
              "2013-01-08 -0.012237 -0.007748  0.002691 -0.020565 -0.001974\n",
              "...              ...       ...       ...       ...       ...\n",
              "2020-04-20 -0.005579  0.007836 -0.020757  0.034353 -0.012967\n",
              "2020-04-21 -0.041741 -0.027360 -0.030910 -0.008366 -0.039689\n",
              "2020-04-22  0.067213  0.015192  0.028804 -0.028606  0.038534\n",
              "2020-04-23  0.015635  0.015215 -0.003875  0.012529  0.010370\n",
              "2020-04-24  0.026684  0.004489  0.028870 -0.004008  0.002351\n",
              "\n",
              "[1841 rows x 5 columns]"
            ]
          },
          "metadata": {
            "tags": []
          },
          "execution_count": 14
        }
      ]
    },
    {
      "cell_type": "markdown",
      "metadata": {
        "id": "PZEVHPKNZuQE",
        "colab_type": "text"
      },
      "source": [
        "Create and show annualized covariance matrix"
      ]
    },
    {
      "cell_type": "code",
      "metadata": {
        "id": "3ilnhF5zZzCc",
        "colab_type": "code",
        "colab": {
          "base_uri": "https://localhost:8080/",
          "height": 204
        },
        "outputId": "5146f648-39bf-4fad-cd9b-2aca7e9f1650"
      },
      "source": [
        "cov_matrix_annual = returns.cov() * 252  # directional relationship bewtween 2 asset prices\n",
        "cov_matrix_annual"
      ],
      "execution_count": 15,
      "outputs": [
        {
          "output_type": "execute_result",
          "data": {
            "text/html": [
              "<div>\n",
              "<style scoped>\n",
              "    .dataframe tbody tr th:only-of-type {\n",
              "        vertical-align: middle;\n",
              "    }\n",
              "\n",
              "    .dataframe tbody tr th {\n",
              "        vertical-align: top;\n",
              "    }\n",
              "\n",
              "    .dataframe thead th {\n",
              "        text-align: right;\n",
              "    }\n",
              "</style>\n",
              "<table border=\"1\" class=\"dataframe\">\n",
              "  <thead>\n",
              "    <tr style=\"text-align: right;\">\n",
              "      <th></th>\n",
              "      <th>FB</th>\n",
              "      <th>AMZN</th>\n",
              "      <th>AAPL</th>\n",
              "      <th>NFLX</th>\n",
              "      <th>GOOG</th>\n",
              "    </tr>\n",
              "  </thead>\n",
              "  <tbody>\n",
              "    <tr>\n",
              "      <th>FB</th>\n",
              "      <td>0.115589</td>\n",
              "      <td>0.051369</td>\n",
              "      <td>0.040186</td>\n",
              "      <td>0.053911</td>\n",
              "      <td>0.047735</td>\n",
              "    </tr>\n",
              "    <tr>\n",
              "      <th>AMZN</th>\n",
              "      <td>0.051369</td>\n",
              "      <td>0.091325</td>\n",
              "      <td>0.035223</td>\n",
              "      <td>0.060978</td>\n",
              "      <td>0.046161</td>\n",
              "    </tr>\n",
              "    <tr>\n",
              "      <th>AAPL</th>\n",
              "      <td>0.040186</td>\n",
              "      <td>0.035223</td>\n",
              "      <td>0.076645</td>\n",
              "      <td>0.031684</td>\n",
              "      <td>0.036816</td>\n",
              "    </tr>\n",
              "    <tr>\n",
              "      <th>NFLX</th>\n",
              "      <td>0.053911</td>\n",
              "      <td>0.060978</td>\n",
              "      <td>0.031684</td>\n",
              "      <td>0.214832</td>\n",
              "      <td>0.048701</td>\n",
              "    </tr>\n",
              "    <tr>\n",
              "      <th>GOOG</th>\n",
              "      <td>0.047735</td>\n",
              "      <td>0.046161</td>\n",
              "      <td>0.036816</td>\n",
              "      <td>0.048701</td>\n",
              "      <td>0.063990</td>\n",
              "    </tr>\n",
              "  </tbody>\n",
              "</table>\n",
              "</div>"
            ],
            "text/plain": [
              "            FB      AMZN      AAPL      NFLX      GOOG\n",
              "FB    0.115589  0.051369  0.040186  0.053911  0.047735\n",
              "AMZN  0.051369  0.091325  0.035223  0.060978  0.046161\n",
              "AAPL  0.040186  0.035223  0.076645  0.031684  0.036816\n",
              "NFLX  0.053911  0.060978  0.031684  0.214832  0.048701\n",
              "GOOG  0.047735  0.046161  0.036816  0.048701  0.063990"
            ]
          },
          "metadata": {
            "tags": []
          },
          "execution_count": 15
        }
      ]
    },
    {
      "cell_type": "markdown",
      "metadata": {
        "id": "RQduvSMMaM6B",
        "colab_type": "text"
      },
      "source": [
        "Calculate the portfolio variance"
      ]
    },
    {
      "cell_type": "code",
      "metadata": {
        "id": "EILhgf4kaQrV",
        "colab_type": "code",
        "colab": {
          "base_uri": "https://localhost:8080/",
          "height": 35
        },
        "outputId": "f377210d-2df1-4921-ec6c-7c59efb5f8bc"
      },
      "source": [
        "port_variance = np.dot(weights.T, np.dot(cov_matrix_annual, weights)) # transposed weights * covariance matrix * weights\n",
        "port_variance"
      ],
      "execution_count": 16,
      "outputs": [
        {
          "output_type": "execute_result",
          "data": {
            "text/plain": [
              "0.058716393998385255"
            ]
          },
          "metadata": {
            "tags": []
          },
          "execution_count": 16
        }
      ]
    },
    {
      "cell_type": "markdown",
      "metadata": {
        "id": "WRGfl7rpbPUy",
        "colab_type": "text"
      },
      "source": [
        "Calculate the portfolio volatility (standard deviation)"
      ]
    },
    {
      "cell_type": "code",
      "metadata": {
        "id": "S3wHm4nIbWYB",
        "colab_type": "code",
        "colab": {
          "base_uri": "https://localhost:8080/",
          "height": 35
        },
        "outputId": "f8e19146-2175-4701-ee92-4a6cb42a8cae"
      },
      "source": [
        "port_volatility = np.sqrt(port_variance) # square root of the variance\n",
        "port_volatility"
      ],
      "execution_count": 18,
      "outputs": [
        {
          "output_type": "execute_result",
          "data": {
            "text/plain": [
              "0.24231465906623406"
            ]
          },
          "metadata": {
            "tags": []
          },
          "execution_count": 18
        }
      ]
    },
    {
      "cell_type": "markdown",
      "metadata": {
        "id": "yQ5cRbiUcG-d",
        "colab_type": "text"
      },
      "source": [
        "Calculate annual portfolio return"
      ]
    },
    {
      "cell_type": "code",
      "metadata": {
        "id": "3gxJmiQpcNB8",
        "colab_type": "code",
        "colab": {
          "base_uri": "https://localhost:8080/",
          "height": 35
        },
        "outputId": "595d6140-7dbe-4b4e-a8b6-d51fa86a6739"
      },
      "source": [
        "portfolioSimpleAnnualReturn = np.sum(returns.mean() * weights) * 252\n",
        "portfolioSimpleAnnualReturn"
      ],
      "execution_count": 19,
      "outputs": [
        {
          "output_type": "execute_result",
          "data": {
            "text/plain": [
              "0.3378371644805688"
            ]
          },
          "metadata": {
            "tags": []
          },
          "execution_count": 19
        }
      ]
    },
    {
      "cell_type": "markdown",
      "metadata": {
        "id": "-1U9LNDpccYq",
        "colab_type": "text"
      },
      "source": [
        "Show the expected annual return, volatility and variance"
      ]
    },
    {
      "cell_type": "code",
      "metadata": {
        "id": "xo8e9p9NckrK",
        "colab_type": "code",
        "colab": {
          "base_uri": "https://localhost:8080/",
          "height": 71
        },
        "outputId": "42ea2d69-3279-4a84-bc00-99e23aa54c11"
      },
      "source": [
        "percent_var = str(round(port_variance, 2) * 100) + '%'\n",
        "percent_vols = str(round(port_volatility, 2) * 100) + '%'\n",
        "percent_ret = str(round(portfolioSimpleAnnualReturn, 2) * 100) + '%'\n",
        "\n",
        "print(f'Expected Annual Return: {percent_ret}')\n",
        "print(f'Annual Volatility/Risk: {percent_vols}')\n",
        "print(f'Annual Variance: {percent_var}')"
      ],
      "execution_count": 21,
      "outputs": [
        {
          "output_type": "stream",
          "text": [
            "Expected Annual Return: 34.0%\n",
            "Annual Volatility/Risk: 24.0%\n",
            "Annual Variance: 6.0%\n"
          ],
          "name": "stdout"
        }
      ]
    },
    {
      "cell_type": "code",
      "metadata": {
        "id": "USFyfTqed3sO",
        "colab_type": "code",
        "colab": {
          "base_uri": "https://localhost:8080/",
          "height": 560
        },
        "outputId": "81d29a26-1cb8-4d14-d2bf-6759114bdf26"
      },
      "source": [
        "pip install PyPortfolioOpt"
      ],
      "execution_count": 22,
      "outputs": [
        {
          "output_type": "stream",
          "text": [
            "Collecting PyPortfolioOpt\n",
            "\u001b[?25l  Downloading https://files.pythonhosted.org/packages/f4/13/cfc5dec4182361973d54e49f5f137a2156fa9b8e425119760a3ced5d607d/PyPortfolioOpt-1.1.0-py3-none-any.whl (46kB)\n",
            "\u001b[K     |████████████████████████████████| 51kB 1.6MB/s \n",
            "\u001b[?25hRequirement already satisfied: scipy in /usr/local/lib/python3.6/dist-packages (from PyPortfolioOpt) (1.4.1)\n",
            "Collecting pandas<0.26.0,>=0.25.3\n",
            "\u001b[?25l  Downloading https://files.pythonhosted.org/packages/52/3f/f6a428599e0d4497e1595030965b5ba455fd8ade6e977e3c819973c4b41d/pandas-0.25.3-cp36-cp36m-manylinux1_x86_64.whl (10.4MB)\n",
            "\u001b[K     |████████████████████████████████| 10.4MB 6.2MB/s \n",
            "\u001b[?25hRequirement already satisfied: numpy in /usr/local/lib/python3.6/dist-packages (from PyPortfolioOpt) (1.18.3)\n",
            "Requirement already satisfied: cvxpy<2.0.0,>=1.0.28 in /usr/local/lib/python3.6/dist-packages (from PyPortfolioOpt) (1.0.31)\n",
            "Requirement already satisfied: python-dateutil>=2.6.1 in /usr/local/lib/python3.6/dist-packages (from pandas<0.26.0,>=0.25.3->PyPortfolioOpt) (2.8.1)\n",
            "Requirement already satisfied: pytz>=2017.2 in /usr/local/lib/python3.6/dist-packages (from pandas<0.26.0,>=0.25.3->PyPortfolioOpt) (2018.9)\n",
            "Requirement already satisfied: ecos>=2 in /usr/local/lib/python3.6/dist-packages (from cvxpy<2.0.0,>=1.0.28->PyPortfolioOpt) (2.0.7.post1)\n",
            "Requirement already satisfied: osqp>=0.4.1 in /usr/local/lib/python3.6/dist-packages (from cvxpy<2.0.0,>=1.0.28->PyPortfolioOpt) (0.6.1)\n",
            "Requirement already satisfied: multiprocess in /usr/local/lib/python3.6/dist-packages (from cvxpy<2.0.0,>=1.0.28->PyPortfolioOpt) (0.70.9)\n",
            "Requirement already satisfied: scs>=1.1.3 in /usr/local/lib/python3.6/dist-packages (from cvxpy<2.0.0,>=1.0.28->PyPortfolioOpt) (2.1.2)\n",
            "Requirement already satisfied: six>=1.5 in /usr/local/lib/python3.6/dist-packages (from python-dateutil>=2.6.1->pandas<0.26.0,>=0.25.3->PyPortfolioOpt) (1.12.0)\n",
            "Requirement already satisfied: future in /usr/local/lib/python3.6/dist-packages (from osqp>=0.4.1->cvxpy<2.0.0,>=1.0.28->PyPortfolioOpt) (0.16.0)\n",
            "Requirement already satisfied: dill>=0.3.1 in /usr/local/lib/python3.6/dist-packages (from multiprocess->cvxpy<2.0.0,>=1.0.28->PyPortfolioOpt) (0.3.1.1)\n",
            "\u001b[31mERROR: google-colab 1.0.0 has requirement pandas~=1.0.0; python_version >= \"3.0\", but you'll have pandas 0.25.3 which is incompatible.\u001b[0m\n",
            "Installing collected packages: pandas, PyPortfolioOpt\n",
            "  Found existing installation: pandas 1.0.3\n",
            "    Uninstalling pandas-1.0.3:\n",
            "      Successfully uninstalled pandas-1.0.3\n",
            "Successfully installed PyPortfolioOpt-1.1.0 pandas-0.25.3\n"
          ],
          "name": "stdout"
        },
        {
          "output_type": "display_data",
          "data": {
            "application/vnd.colab-display-data+json": {
              "pip_warning": {
                "packages": [
                  "pandas"
                ]
              }
            }
          },
          "metadata": {
            "tags": []
          }
        }
      ]
    },
    {
      "cell_type": "code",
      "metadata": {
        "id": "f84ythw8eN-3",
        "colab_type": "code",
        "colab": {}
      },
      "source": [
        "from pypfopt.efficient_frontier import EfficientFrontier\n",
        "from pypfopt import risk_models\n",
        "from pypfopt import expected_returns"
      ],
      "execution_count": 0,
      "outputs": []
    },
    {
      "cell_type": "markdown",
      "metadata": {
        "id": "WbREf0WNfhUk",
        "colab_type": "text"
      },
      "source": [
        "Optimize portfolio!"
      ]
    },
    {
      "cell_type": "code",
      "metadata": {
        "id": "cXqIG9CyfkxM",
        "colab_type": "code",
        "colab": {
          "base_uri": "https://localhost:8080/",
          "height": 107
        },
        "outputId": "d36ea3a0-6442-4d4d-9973-aca38d4eeb51"
      },
      "source": [
        "# Calculate the expected retunrs and annualized covariance matrix of asset returns\n",
        "mu = expected_returns.mean_historical_return(df)\n",
        "S = risk_models.sample_cov(df)\n",
        "\n",
        "# Optimize for max sharpe ratio (measures the performence of the investment against risk free investments)\n",
        "ef = EfficientFrontier(mu, S)\n",
        "weights = ef.max_sharpe() # maximizing the sharp ratio and getting the raw weights\n",
        "cleaned_weights = ef.clean_weights() # helper method to clean the raw weights - gets rid of stocks you don't need to optimize your portfolio through rounding\n",
        "print(cleaned_weights)\n",
        "ef.portfolio_performance(verbose =True)\n"
      ],
      "execution_count": 27,
      "outputs": [
        {
          "output_type": "stream",
          "text": [
            "{'FB': 0.13377, 'AMZN': 0.3334, 'AAPL': 0.17365, 'NFLX': 0.35918, 'GOOG': 0.0}\n",
            "Expected annual return: 40.9%\n",
            "Annual volatility: 27.7%\n",
            "Sharpe Ratio: 1.41\n"
          ],
          "name": "stdout"
        },
        {
          "output_type": "execute_result",
          "data": {
            "text/plain": [
              "(0.40876567811108094, 0.27660651147015475, 1.4054827416925357)"
            ]
          },
          "metadata": {
            "tags": []
          },
          "execution_count": 27
        }
      ]
    },
    {
      "cell_type": "code",
      "metadata": {
        "id": "6ZMiqxeYhjPb",
        "colab_type": "code",
        "colab": {
          "base_uri": "https://localhost:8080/",
          "height": 35
        },
        "outputId": "5ef1eddd-e9a8-4e8a-8470-3c1cea45e6ab"
      },
      "source": [
        "0.13377 + 0.3334 + 0.17365 + 0.35918 # Stock weights should equal 1"
      ],
      "execution_count": 28,
      "outputs": [
        {
          "output_type": "execute_result",
          "data": {
            "text/plain": [
              "1.0"
            ]
          },
          "metadata": {
            "tags": []
          },
          "execution_count": 28
        }
      ]
    },
    {
      "cell_type": "markdown",
      "metadata": {
        "id": "EfrQHEpyh-fb",
        "colab_type": "text"
      },
      "source": [
        "Get the discrete allocation of each share per stock"
      ]
    },
    {
      "cell_type": "code",
      "metadata": {
        "id": "CGVKnp8ViB-y",
        "colab_type": "code",
        "colab": {
          "base_uri": "https://localhost:8080/",
          "height": 53
        },
        "outputId": "b5e0fc1b-c0b0-44bb-cf40-59f3a8df2105"
      },
      "source": [
        "from pypfopt.discrete_allocation import DiscreteAllocation, get_latest_prices\n",
        "\n",
        "latest_prices = get_latest_prices(df)\n",
        "weights = cleaned_weights\n",
        "da = DiscreteAllocation(weights, latest_prices, total_portfolio_value=20000)\n",
        "\n",
        "allocation, leftover = da.lp_portfolio()\n",
        "print(f'Discrete Allocation: {allocation}')\n",
        "print('Funds Remaining: ${:.2f}'.format(leftover))\n",
        "\n",
        "# Given the amount of money ($20,000) we are willing to put in the portfolio , to optimize it right now - we can buy '14 FB shares', '3 AMZN shares', '10 AAPL shares' and '17 NFLX shares'"
      ],
      "execution_count": 33,
      "outputs": [
        {
          "output_type": "stream",
          "text": [
            "Discrete Allocation: {'FB': 14.0, 'AMZN': 3.0, 'AAPL': 10.0, 'NFLX': 17.0}\n",
            "Funds Remaining: $53.83\n"
          ],
          "name": "stdout"
        }
      ]
    }
  ]
}